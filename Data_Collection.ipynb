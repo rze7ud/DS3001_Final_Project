{
  "nbformat": 4,
  "nbformat_minor": 0,
  "metadata": {
    "colab": {
      "provenance": [],
      "authorship_tag": "ABX9TyNipToGiEArCHUZcgsGD/O8",
      "include_colab_link": true
    },
    "kernelspec": {
      "name": "python3",
      "display_name": "Python 3"
    },
    "language_info": {
      "name": "python"
    }
  },
  "cells": [
    {
      "cell_type": "markdown",
      "metadata": {
        "id": "view-in-github",
        "colab_type": "text"
      },
      "source": [
        "<a href=\"https://colab.research.google.com/github/rze7ud/DS3001_Final_Project/blob/main/Data_Collection.ipynb\" target=\"_parent\"><img src=\"https://colab.research.google.com/assets/colab-badge.svg\" alt=\"Open In Colab\"/></a>"
      ]
    },
    {
      "cell_type": "code",
      "source": [
        "!pip install python-dotenv\n",
        "!pip install cfbd"
      ],
      "metadata": {
        "colab": {
          "base_uri": "https://localhost:8080/"
        },
        "id": "R6U5PDGaLAfi",
        "outputId": "e1751f91-54c1-44a2-8aa9-cf674e2919ee"
      },
      "execution_count": 21,
      "outputs": [
        {
          "output_type": "stream",
          "name": "stdout",
          "text": [
            "Requirement already satisfied: python-dotenv in /usr/local/lib/python3.10/dist-packages (1.0.1)\n",
            "Requirement already satisfied: cfbd in /usr/local/lib/python3.10/dist-packages (4.5.2)\n",
            "Requirement already satisfied: certifi>=2017.4.17 in /usr/local/lib/python3.10/dist-packages (from cfbd) (2024.8.30)\n",
            "Requirement already satisfied: python-dateutil>=2.1 in /usr/local/lib/python3.10/dist-packages (from cfbd) (2.8.2)\n",
            "Requirement already satisfied: six>=1.10 in /usr/local/lib/python3.10/dist-packages (from cfbd) (1.16.0)\n",
            "Requirement already satisfied: urllib3>=1.23 in /usr/local/lib/python3.10/dist-packages (from cfbd) (2.2.3)\n"
          ]
        }
      ]
    },
    {
      "cell_type": "code",
      "execution_count": 22,
      "metadata": {
        "id": "yLy_8xEKIoAN"
      },
      "outputs": [],
      "source": [
        "import cfbd\n",
        "from cfbd.rest import ApiException\n",
        "from __future__ import print_function\n",
        "import json\n",
        "\n",
        "import pandas as pd\n",
        "\n",
        "from dotenv import load_dotenv\n",
        "import os\n",
        "\n",
        "load_dotenv()\n",
        "API_KEY = os.getenv('API_KEY')\n",
        "\n",
        "configuration = cfbd.Configuration()\n",
        "configuration.api_key['Authorization'] = API_KEY\n",
        "configuration.api_key_prefix['Authorization'] = 'Bearer'"
      ]
    },
    {
      "cell_type": "code",
      "source": [
        "def get_stats(season, team):\n",
        "    api_instance = cfbd.StatsApi(cfbd.ApiClient(configuration))\n",
        "    try:\n",
        "        api_response = api_instance.get_advanced_team_season_stats(year=season, team=team, exclude_garbage_time=True)\n",
        "        try:\n",
        "            return api_response[0]\n",
        "        except IndexError:\n",
        "            return None\n",
        "    except ApiException as e:\n",
        "        print(\"Exception when calling StatsApi->get_: %s\\n\" % e)"
      ],
      "metadata": {
        "id": "5SiGoeiFAcQU"
      },
      "execution_count": 41,
      "outputs": []
    },
    {
      "cell_type": "code",
      "source": [
        "def get_opp_data(team, start_year, end_year):\n",
        "    api_instance = cfbd.GamesApi(cfbd.ApiClient(configuration))\n",
        "    years = list(range(start_year, end_year+1))\n",
        "\n",
        "    columns = ['season', 'week', 'home', f'{team.lower()}_points', 'opp', 'opp_points', 'opp_conference',\n",
        "\n",
        "               'opp_def_explosiveness', 'opp_def_fp_avg_pred_points', 'opp_def_fp_avg_start',\n",
        "               'opp_def_havoc_db', 'opp_def_havoc_7', 'opp_def_havoc_total',\n",
        "               'opp_def_line_yards', 'opp_def_open_field_yards',\n",
        "               'opp_def_pp_explosiveness', 'opp_def_pp_ppa', 'opp_def_pp_rate', 'opp_def_pp_success_rate',\n",
        "               'opp_def_points_per_opportunity', 'opp_def_power_success', 'opp_def_ppa',\n",
        "               'opp_def_rp_explosiveness', 'opp_def_rp_ppa', 'opp_def_rp_rate', 'opp_def_rp_success_rate',\n",
        "               'opp_def_second_level_yards', 'opp_def_stuff_rate', 'opp_def_success_rate', 'opp_def_total_ppa',\n",
        "\n",
        "               'opp_off_explosiveness', 'opp_off_fp_avg_pred_points', 'opp_off_fp_avg_start',\n",
        "               'opp_off_havoc_db', 'opp_off_havoc_7', 'opp_off_havoc_total',\n",
        "               'opp_off_line_yards', 'opp_off_open_field_yards',\n",
        "               'opp_off_pp_explosiveness', 'opp_off_pp_ppa', 'opp_off_pp_rate', 'opp_off_pp_success_rate',\n",
        "               'opp_off_points_per_opportunity', 'opp_off_power_success', 'opp_off_ppa',\n",
        "               'opp_off_rp_explosiveness', 'opp_off_rp_ppa', 'opp_off_rp_rate', 'opp_off_rp_success_rate',\n",
        "               'opp_off_second_level_yards', 'opp_off_stuff_rate', 'opp_off_success_rate', 'opp_off_total_ppa']\n",
        "    df = pd.DataFrame(columns=columns)\n",
        "    for year in years:\n",
        "        try:\n",
        "            api_response = api_instance.get_games(year=year, team=team)\n",
        "            for game in api_response:\n",
        "                season = game.season\n",
        "                week = game.week\n",
        "                if game.home_team == f\"{team}\":\n",
        "                    home = 'True'\n",
        "                    team_points = game.home_points\n",
        "                    opp = game.away_team\n",
        "                    opp_points = game.away_points\n",
        "                else:\n",
        "                    home = 'False'\n",
        "                    team_points = game.away_points\n",
        "                    opp = game.home_team\n",
        "                    opp_points = game.home_points\n",
        "                api_response = get_stats(season, opp)\n",
        "                if api_response is not None:\n",
        "                    opp_conference = api_response.conference\n",
        "\n",
        "                    opp_def_explosiveness = api_response.defense.explosiveness\n",
        "                    opp_def_fp_avg_pred_points = api_response.defense.field_position.average_predicted_points\n",
        "                    opp_def_fp_avg_start = api_response.defense.field_position.average_start\n",
        "                    opp_def_havoc_db = api_response.defense.havoc.db\n",
        "                    opp_def_havoc_7 = api_response.defense.havoc.front_seven\n",
        "                    opp_def_havoc_total = api_response.defense.havoc.total\n",
        "                    opp_def_line_yards = api_response.defense.line_yards\n",
        "                    opp_def_open_field_yards = api_response.defense.open_field_yards\n",
        "                    opp_def_pp_explosiveness = api_response.defense.passing_plays.explosiveness\n",
        "                    opp_def_pp_ppa = api_response.defense.passing_plays.ppa\n",
        "                    opp_def_pp_rate = api_response.defense.passing_plays.rate\n",
        "                    opp_def_pp_success_rate = api_response.defense.passing_plays.success_rate\n",
        "                    opp_def_points_per_opportunity = api_response.defense.points_per_opportunity\n",
        "                    opp_def_power_success = api_response.defense.power_success\n",
        "                    opp_def_ppa = api_response.defense.ppa\n",
        "                    opp_def_rp_explosiveness = api_response.defense.rushing_plays.explosiveness\n",
        "                    opp_def_rp_ppa = api_response.defense.rushing_plays.ppa\n",
        "                    opp_def_rp_rate = api_response.defense.rushing_plays.rate\n",
        "                    opp_def_rp_success_rate = api_response.defense.rushing_plays.success_rate\n",
        "                    opp_def_second_level_yards = api_response.defense.second_level_yards\n",
        "                    opp_def_stuff_rate = api_response.defense.stuff_rate\n",
        "                    opp_def_success_rate = api_response.defense.success_rate\n",
        "                    opp_def_total_ppa = api_response.defense.total_ppa\n",
        "\n",
        "                    opp_off_explosiveness = api_response.offense.explosiveness\n",
        "                    opp_off_fp_avg_pred_points = api_response.offense.field_position.average_predicted_points\n",
        "                    opp_off_fp_avg_start = api_response.offense.field_position.average_start\n",
        "                    opp_off_havoc_db = api_response.offense.havoc.db\n",
        "                    opp_off_havoc_7 = api_response.offense.havoc.front_seven\n",
        "                    opp_off_havoc_total = api_response.offense.havoc.total\n",
        "                    opp_off_line_yards = api_response.offense.line_yards\n",
        "                    opp_off_open_field_yards = api_response.offense.open_field_yards\n",
        "                    opp_off_pp_explosiveness = api_response.offense.passing_plays.explosiveness\n",
        "                    opp_off_pp_ppa = api_response.offense.passing_plays.ppa\n",
        "                    opp_off_pp_rate = api_response.offense.passing_plays.rate\n",
        "                    opp_off_pp_success_rate = api_response.offense.passing_plays.success_rate\n",
        "                    opp_off_points_per_opportunity = api_response.offense.points_per_opportunity\n",
        "                    opp_off_power_success = api_response.offense.power_success\n",
        "                    opp_off_ppa = api_response.offense.ppa\n",
        "                    opp_off_rp_explosiveness = api_response.offense.rushing_plays.explosiveness\n",
        "                    opp_off_rp_ppa = api_response.offense.rushing_plays.ppa\n",
        "                    opp_off_rp_rate = api_response.offense.rushing_plays.rate\n",
        "                    opp_off_rp_success_rate = api_response.offense.rushing_plays.success_rate\n",
        "                    opp_off_second_level_yards = api_response.offense.second_level_yards\n",
        "                    opp_off_stuff_rate = api_response.offense.stuff_rate\n",
        "                    opp_off_success_rate = api_response.offense.success_rate\n",
        "                    opp_off_total_ppa = api_response.offense.total_ppa\n",
        "\n",
        "                    df.loc[len(df)] = [season, week, home, team_points, opp, opp_points, opp_conference,\n",
        "\n",
        "                                        opp_def_explosiveness, opp_def_fp_avg_pred_points, opp_def_fp_avg_start,\n",
        "                                        opp_def_havoc_db, opp_def_havoc_7, opp_def_havoc_total,\n",
        "                                        opp_def_line_yards, opp_def_open_field_yards,\n",
        "                                        opp_def_pp_explosiveness, opp_def_pp_ppa, opp_def_pp_rate, opp_def_pp_success_rate,\n",
        "                                        opp_def_points_per_opportunity, opp_def_power_success, opp_def_ppa,\n",
        "                                        opp_def_rp_explosiveness, opp_def_rp_ppa, opp_def_rp_rate, opp_def_rp_success_rate,\n",
        "                                        opp_def_second_level_yards, opp_def_stuff_rate, opp_def_success_rate, opp_def_total_ppa,\n",
        "\n",
        "                                        opp_off_explosiveness, opp_off_fp_avg_pred_points, opp_off_fp_avg_start,\n",
        "                                        opp_off_havoc_db, opp_off_havoc_7, opp_off_havoc_total,\n",
        "                                        opp_off_line_yards, opp_off_open_field_yards,\n",
        "                                        opp_off_pp_explosiveness, opp_off_pp_ppa, opp_off_pp_rate, opp_off_pp_success_rate,\n",
        "                                        opp_off_points_per_opportunity, opp_off_power_success, opp_off_ppa,\n",
        "                                        opp_off_rp_explosiveness, opp_off_rp_ppa, opp_off_rp_rate, opp_off_rp_success_rate,\n",
        "                                        opp_off_second_level_yards, opp_off_stuff_rate, opp_off_success_rate, opp_off_total_ppa]\n",
        "        except ApiException as e:\n",
        "            print(\"Exception when calling GamesApi->get_games: %s\\n\" % e)\n",
        "    return df"
      ],
      "metadata": {
        "id": "Jcc5Hs-LgQKB"
      },
      "execution_count": 35,
      "outputs": []
    },
    {
      "cell_type": "code",
      "source": [
        "def get_data(team, start_year, end_year):\n",
        "    api_instance = cfbd.GamesApi(cfbd.ApiClient(configuration))\n",
        "    years = list(range(start_year, end_year+1))\n",
        "\n",
        "    columns = ['season',\n",
        "\n",
        "               'opp_def_explosiveness', 'opp_def_fp_avg_pred_points', 'opp_def_fp_avg_start',\n",
        "               'opp_def_havoc_db', 'opp_def_havoc_7', 'opp_def_havoc_total',\n",
        "               'opp_def_line_yards', 'opp_def_open_field_yards',\n",
        "               'opp_def_pp_explosiveness', 'opp_def_pp_ppa', 'opp_def_pp_rate', 'opp_def_pp_success_rate',\n",
        "               'opp_def_points_per_opportunity', 'opp_def_power_success', 'opp_def_ppa',\n",
        "               'opp_def_rp_explosiveness', 'opp_def_rp_ppa', 'opp_def_rp_rate', 'opp_def_rp_success_rate',\n",
        "               'opp_def_second_level_yards', 'opp_def_stuff_rate', 'opp_def_success_rate', 'opp_def_total_ppa',\n",
        "\n",
        "               'opp_off_explosiveness', 'opp_off_fp_avg_pred_points', 'opp_off_fp_avg_start',\n",
        "               'opp_off_havoc_db', 'opp_off_havoc_7', 'opp_off_havoc_total',\n",
        "               'opp_off_line_yards', 'opp_off_open_field_yards',\n",
        "               'opp_off_pp_explosiveness', 'opp_off_pp_ppa', 'opp_off_pp_rate', 'opp_off_pp_success_rate',\n",
        "               'opp_off_points_per_opportunity', 'opp_off_power_success', 'opp_off_ppa',\n",
        "               'opp_off_rp_explosiveness', 'opp_off_rp_ppa', 'opp_off_rp_rate', 'opp_off_rp_success_rate',\n",
        "               'opp_off_second_level_yards', 'opp_off_stuff_rate', 'opp_off_success_rate', 'opp_off_total_ppa']\n",
        "    df = pd.DataFrame(columns=columns)\n",
        "    for season in years:\n",
        "        try:\n",
        "            api_response = get_stats(season, team)\n",
        "\n",
        "            opp_def_explosiveness = api_response.defense.explosiveness\n",
        "            opp_def_fp_avg_pred_points = api_response.defense.field_position.average_predicted_points\n",
        "            opp_def_fp_avg_start = api_response.defense.field_position.average_start\n",
        "            opp_def_havoc_db = api_response.defense.havoc.db\n",
        "            opp_def_havoc_7 = api_response.defense.havoc.front_seven\n",
        "            opp_def_havoc_total = api_response.defense.havoc.total\n",
        "            opp_def_line_yards = api_response.defense.line_yards\n",
        "            opp_def_open_field_yards = api_response.defense.open_field_yards\n",
        "            opp_def_pp_explosiveness = api_response.defense.passing_plays.explosiveness\n",
        "            opp_def_pp_ppa = api_response.defense.passing_plays.ppa\n",
        "            opp_def_pp_rate = api_response.defense.passing_plays.rate\n",
        "            opp_def_pp_success_rate = api_response.defense.passing_plays.success_rate\n",
        "            opp_def_points_per_opportunity = api_response.defense.points_per_opportunity\n",
        "            opp_def_power_success = api_response.defense.power_success\n",
        "            opp_def_ppa = api_response.defense.ppa\n",
        "            opp_def_rp_explosiveness = api_response.defense.rushing_plays.explosiveness\n",
        "            opp_def_rp_ppa = api_response.defense.rushing_plays.ppa\n",
        "            opp_def_rp_rate = api_response.defense.rushing_plays.rate\n",
        "            opp_def_rp_success_rate = api_response.defense.rushing_plays.success_rate\n",
        "            opp_def_second_level_yards = api_response.defense.second_level_yards\n",
        "            opp_def_stuff_rate = api_response.defense.stuff_rate\n",
        "            opp_def_success_rate = api_response.defense.success_rate\n",
        "            opp_def_total_ppa = api_response.defense.total_ppa\n",
        "\n",
        "            opp_off_explosiveness = api_response.offense.explosiveness\n",
        "            opp_off_fp_avg_pred_points = api_response.offense.field_position.average_predicted_points\n",
        "            opp_off_fp_avg_start = api_response.offense.field_position.average_start\n",
        "            opp_off_havoc_db = api_response.offense.havoc.db\n",
        "            opp_off_havoc_7 = api_response.offense.havoc.front_seven\n",
        "            opp_off_havoc_total = api_response.offense.havoc.total\n",
        "            opp_off_line_yards = api_response.offense.line_yards\n",
        "            opp_off_open_field_yards = api_response.offense.open_field_yards\n",
        "            opp_off_pp_explosiveness = api_response.offense.passing_plays.explosiveness\n",
        "            opp_off_pp_ppa = api_response.offense.passing_plays.ppa\n",
        "            opp_off_pp_rate = api_response.offense.passing_plays.rate\n",
        "            opp_off_pp_success_rate = api_response.offense.passing_plays.success_rate\n",
        "            opp_off_points_per_opportunity = api_response.offense.points_per_opportunity\n",
        "            opp_off_power_success = api_response.offense.power_success\n",
        "            opp_off_ppa = api_response.offense.ppa\n",
        "            opp_off_rp_explosiveness = api_response.offense.rushing_plays.explosiveness\n",
        "            opp_off_rp_ppa = api_response.offense.rushing_plays.ppa\n",
        "            opp_off_rp_rate = api_response.offense.rushing_plays.rate\n",
        "            opp_off_rp_success_rate = api_response.offense.rushing_plays.success_rate\n",
        "            opp_off_second_level_yards = api_response.offense.second_level_yards\n",
        "            opp_off_stuff_rate = api_response.offense.stuff_rate\n",
        "            opp_off_success_rate = api_response.offense.success_rate\n",
        "            opp_off_total_ppa = api_response.offense.total_ppa\n",
        "\n",
        "            df.loc[len(df)] = [season,\n",
        "\n",
        "                                opp_def_explosiveness, opp_def_fp_avg_pred_points, opp_def_fp_avg_start,\n",
        "                                opp_def_havoc_db, opp_def_havoc_7, opp_def_havoc_total,\n",
        "                                opp_def_line_yards, opp_def_open_field_yards,\n",
        "                                opp_def_pp_explosiveness, opp_def_pp_ppa, opp_def_pp_rate, opp_def_pp_success_rate,\n",
        "                                opp_def_points_per_opportunity, opp_def_power_success, opp_def_ppa,\n",
        "                                opp_def_rp_explosiveness, opp_def_rp_ppa, opp_def_rp_rate, opp_def_rp_success_rate,\n",
        "                                opp_def_second_level_yards, opp_def_stuff_rate, opp_def_success_rate, opp_def_total_ppa,\n",
        "\n",
        "                                opp_off_explosiveness, opp_off_fp_avg_pred_points, opp_off_fp_avg_start,\n",
        "                                opp_off_havoc_db, opp_off_havoc_7, opp_off_havoc_total,\n",
        "                                opp_off_line_yards, opp_off_open_field_yards,\n",
        "                                opp_off_pp_explosiveness, opp_off_pp_ppa, opp_off_pp_rate, opp_off_pp_success_rate,\n",
        "                                opp_off_points_per_opportunity, opp_off_power_success, opp_off_ppa,\n",
        "                                opp_off_rp_explosiveness, opp_off_rp_ppa, opp_off_rp_rate, opp_off_rp_success_rate,\n",
        "                                opp_off_second_level_yards, opp_off_stuff_rate, opp_off_success_rate, opp_off_total_ppa]\n",
        "        except ApiException as e:\n",
        "            print(\"Exception when calling GamesApi->get_games: %s\\n\" % e)\n",
        "    return df"
      ],
      "metadata": {
        "id": "crekLVd5SpCd"
      },
      "execution_count": 45,
      "outputs": []
    },
    {
      "cell_type": "code",
      "source": [
        "clemson_opp_df_2024_2024 = get_opp_data('Clemson', 2024, 2024)"
      ],
      "metadata": {
        "id": "YcEvhJekAD9K"
      },
      "execution_count": 42,
      "outputs": []
    },
    {
      "cell_type": "code",
      "source": [
        "clemson_df_2024_2024 = get_data('Clemson', 2024, 2024)"
      ],
      "metadata": {
        "id": "FlSdcPW_Twpb"
      },
      "execution_count": 46,
      "outputs": []
    },
    {
      "cell_type": "code",
      "source": [
        "clemson_opp_df_2024_2024.to_csv('clemson_opp_df_2024_2024.csv', index=False)"
      ],
      "metadata": {
        "id": "uvdgAt2DPm2H"
      },
      "execution_count": 44,
      "outputs": []
    },
    {
      "cell_type": "code",
      "source": [
        "clemson_df_2024_2024.to_csv('clemson_df_2024_2024.csv', index=False)"
      ],
      "metadata": {
        "id": "5_yTmnA6T1ao"
      },
      "execution_count": 47,
      "outputs": []
    }
  ]
}