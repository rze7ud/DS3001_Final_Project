{
  "nbformat": 4,
  "nbformat_minor": 0,
  "metadata": {
    "colab": {
      "provenance": [],
      "authorship_tag": "ABX9TyP7KJELVRmBjYm8nn1qcgNw",
      "include_colab_link": true
    },
    "kernelspec": {
      "name": "python3",
      "display_name": "Python 3"
    },
    "language_info": {
      "name": "python"
    }
  },
  "cells": [
    {
      "cell_type": "markdown",
      "metadata": {
        "id": "view-in-github",
        "colab_type": "text"
      },
      "source": [
        "<a href=\"https://colab.research.google.com/github/rze7ud/DS3001_Final_Project/blob/main/Data_Collection.ipynb\" target=\"_parent\"><img src=\"https://colab.research.google.com/assets/colab-badge.svg\" alt=\"Open In Colab\"/></a>"
      ]
    },
    {
      "cell_type": "code",
      "source": [
        "!pip install python-dotenv\n",
        "!pip install cfbd"
      ],
      "metadata": {
        "colab": {
          "base_uri": "https://localhost:8080/"
        },
        "id": "R6U5PDGaLAfi",
        "outputId": "edea7554-b614-4c23-8e3e-01a6f3a9a4c5"
      },
      "execution_count": 9,
      "outputs": [
        {
          "output_type": "stream",
          "name": "stdout",
          "text": [
            "Requirement already satisfied: python-dotenv in /usr/local/lib/python3.10/dist-packages (1.0.1)\n",
            "Collecting cfbd\n",
            "  Downloading cfbd-4.5.2-py3-none-any.whl.metadata (623 bytes)\n",
            "Requirement already satisfied: certifi>=2017.4.17 in /usr/local/lib/python3.10/dist-packages (from cfbd) (2024.8.30)\n",
            "Requirement already satisfied: python-dateutil>=2.1 in /usr/local/lib/python3.10/dist-packages (from cfbd) (2.8.2)\n",
            "Requirement already satisfied: six>=1.10 in /usr/local/lib/python3.10/dist-packages (from cfbd) (1.16.0)\n",
            "Requirement already satisfied: urllib3>=1.23 in /usr/local/lib/python3.10/dist-packages (from cfbd) (2.2.3)\n",
            "Downloading cfbd-4.5.2-py3-none-any.whl (358 kB)\n",
            "\u001b[2K   \u001b[90m━━━━━━━━━━━━━━━━━━━━━━━━━━━━━━━━━━━━━━━━\u001b[0m \u001b[32m358.8/358.8 kB\u001b[0m \u001b[31m4.2 MB/s\u001b[0m eta \u001b[36m0:00:00\u001b[0m\n",
            "\u001b[?25hInstalling collected packages: cfbd\n",
            "Successfully installed cfbd-4.5.2\n"
          ]
        }
      ]
    },
    {
      "cell_type": "code",
      "execution_count": 36,
      "metadata": {
        "id": "yLy_8xEKIoAN"
      },
      "outputs": [],
      "source": [
        "import cfbd\n",
        "from cfbd.rest import ApiException\n",
        "from __future__ import print_function\n",
        "import json\n",
        "\n",
        "import pandas as pd\n",
        "\n",
        "from dotenv import load_dotenv\n",
        "import os\n",
        "\n",
        "load_dotenv()\n",
        "API_KEY = os.getenv('API_KEY')\n",
        "\n",
        "configuration = cfbd.Configuration()\n",
        "configuration.api_key['Authorization'] = API_KEY\n",
        "configuration.api_key_prefix['Authorization'] = 'Bearer'"
      ]
    },
    {
      "cell_type": "code",
      "source": [
        "api_instance = cfbd.GamesApi(cfbd.ApiClient(configuration))\n",
        "year = 2024\n",
        "team = \"Clemson\"\n",
        "\n",
        "try:\n",
        "    api_response = api_instance.get_games(year=year, team=team)\n",
        "except ApiException as e:\n",
        "    print(\"Exception when calling BettingApi->get_lines: %s\\n\" % e)"
      ],
      "metadata": {
        "id": "DWJV6i39Jqbn"
      },
      "execution_count": 35,
      "outputs": []
    },
    {
      "cell_type": "code",
      "source": [
        "columns = ['year', 'week', 'home', 'clemson_points', 'opponent', 'opponent_points']\n",
        "df = pd.DataFrame(columns=columns)\n",
        "\n",
        "for game in api_response:\n",
        "    year = game.season\n",
        "    week = game.week\n",
        "    if game.home_team == \"Clemson\":\n",
        "        home = 'True'\n",
        "        clemson_points = game.home_points\n",
        "        opponent = game.away_team\n",
        "        opponent_points = game.away_points\n",
        "    else:\n",
        "        home = 'False'\n",
        "        clemson_points = game.away_points\n",
        "        opponent = game.home_team\n",
        "        opponent_points = game.home_points\n",
        "    df.loc[len(df)] = [year, week, home, clemson_points, opponent, opponent_points]"
      ],
      "metadata": {
        "id": "Jcc5Hs-LgQKB"
      },
      "execution_count": 40,
      "outputs": []
    }
  ]
}