{
  "nbformat": 4,
  "nbformat_minor": 0,
  "metadata": {
    "colab": {
      "provenance": [],
      "authorship_tag": "ABX9TyPOgnbOMuvGz/nQs7q+vG97",
      "include_colab_link": true
    },
    "kernelspec": {
      "name": "python3",
      "display_name": "Python 3"
    },
    "language_info": {
      "name": "python"
    }
  },
  "cells": [
    {
      "cell_type": "markdown",
      "metadata": {
        "id": "view-in-github",
        "colab_type": "text"
      },
      "source": [
        "<a href=\"https://colab.research.google.com/github/rze7ud/DS3001_Final_Project/blob/main/Analysis.ipynb\" target=\"_parent\"><img src=\"https://colab.research.google.com/assets/colab-badge.svg\" alt=\"Open In Colab\"/></a>"
      ]
    },
    {
      "cell_type": "code",
      "execution_count": 5,
      "metadata": {
        "colab": {
          "base_uri": "https://localhost:8080/"
        },
        "id": "ZfPlwoYvjVOK",
        "outputId": "d0c5b427-114f-412b-9ccf-006e9811b6c9"
      },
      "outputs": [
        {
          "output_type": "stream",
          "name": "stdout",
          "text": [
            "Collecting python-dotenv\n",
            "  Downloading python_dotenv-1.0.1-py3-none-any.whl.metadata (23 kB)\n",
            "Downloading python_dotenv-1.0.1-py3-none-any.whl (19 kB)\n",
            "Installing collected packages: python-dotenv\n",
            "Successfully installed python-dotenv-1.0.1\n"
          ]
        },
        {
          "output_type": "execute_result",
          "data": {
            "text/plain": [
              "0"
            ]
          },
          "metadata": {},
          "execution_count": 5
        }
      ],
      "source": [
        "! pip install python-dotenv\n",
        "from dotenv import load_dotenv\n",
        "import os\n",
        "\n",
        "load_dotenv()\n",
        "GITHUB_TOKEN = os.getenv('GITHUB_TOKEN')\n",
        "\n",
        "repo_url = f\"https://{GITHUB_TOKEN}@github.com/rze7ud/DS3001_Final_Project/\"\n",
        "\n",
        "os.system(f\"git clone {repo_url}\")"
      ]
    },
    {
      "cell_type": "code",
      "source": [
        "import pandas as pd\n",
        "import numpy as np\n",
        "import matplotlib.pyplot as plt\n",
        "import seaborn as sns"
      ],
      "metadata": {
        "id": "b8aIwYDIqIWH"
      },
      "execution_count": 6,
      "outputs": []
    },
    {
      "cell_type": "code",
      "source": [
        "df = pd.read_csv(\"/content/DS3001_Final_Project/data/clemson_2001_2024.csv\")\n",
        "df['season'] = df['season'].astype(int)\n",
        "df_opp = pd.read_csv(\"/content/DS3001_Final_Project/data/clemson_opp_2001_2024.csv\")"
      ],
      "metadata": {
        "id": "m4C6I3Ygp_nF"
      },
      "execution_count": 19,
      "outputs": []
    },
    {
      "cell_type": "code",
      "source": [
        "df_combined = pd.concat([df, df_opp], axis=1)"
      ],
      "metadata": {
        "id": "tJa13D7xsC9S"
      },
      "execution_count": 10,
      "outputs": []
    },
    {
      "cell_type": "code",
      "source": [
        "out = pd.merge_asof(df_opp, df, on ='season')"
      ],
      "metadata": {
        "id": "AlDAKs39wBwY"
      },
      "execution_count": 22,
      "outputs": []
    },
    {
      "cell_type": "code",
      "source": [
        "print(out)"
      ],
      "metadata": {
        "colab": {
          "base_uri": "https://localhost:8080/"
        },
        "id": "GPl_wfXmwyjb",
        "outputId": "95e2989f-6d40-4996-8bc2-f67c6fd06eec"
      },
      "execution_count": 23,
      "outputs": [
        {
          "output_type": "stream",
          "name": "stdout",
          "text": [
            "     season  week   home    win  clemson_points             opp  opp_points  \\\n",
            "0      2001     2   True   True            21.0             UCF        13.0   \n",
            "1      2001     5   True  False            24.0        Virginia        26.0   \n",
            "2      2001     6  False   True            47.0    Georgia Tech        44.0   \n",
            "3      2001     8  False   True            45.0        NC State        37.0   \n",
            "4      2001     9   True  False             3.0  North Carolina        38.0   \n",
            "..      ...   ...    ...    ...             ...             ...         ...   \n",
            "263    2024    10   True  False            21.0      Louisville        33.0   \n",
            "264    2024    11  False   True            24.0   Virginia Tech        14.0   \n",
            "265    2024    12  False   True            24.0      Pittsburgh        20.0   \n",
            "266    2024    14   True  False            14.0  South Carolina        17.0   \n",
            "267    2024    15  False    NaN             NaN             SMU         NaN   \n",
            "\n",
            "    opp_conference  opp_def_explosiveness  opp_def_fp_avg_pred_points  ...  \\\n",
            "0           Big 12               1.125424                      -1.528  ...   \n",
            "1              ACC               0.908794                      -1.588  ...   \n",
            "2              ACC               1.062793                      -1.290  ...   \n",
            "3              ACC               0.990923                      -1.528  ...   \n",
            "4              ACC               0.980599                      -1.493  ...   \n",
            "..             ...                    ...                         ...  ...   \n",
            "263            ACC               1.317976                      -1.147  ...   \n",
            "264            ACC               1.245294                      -1.350  ...   \n",
            "265            ACC               1.390148                      -1.341  ...   \n",
            "266            SEC               1.123620                      -1.234  ...   \n",
            "267            ACC               1.271736                      -1.343  ...   \n",
            "\n",
            "     off_power_success   off_ppa  off_rp_explosiveness  off_rp_ppa  \\\n",
            "0             0.775510  0.034298              0.787165    0.030755   \n",
            "1             0.775510  0.034298              0.787165    0.030755   \n",
            "2             0.775510  0.034298              0.787165    0.030755   \n",
            "3             0.775510  0.034298              0.787165    0.030755   \n",
            "4             0.775510  0.034298              0.787165    0.030755   \n",
            "..                 ...       ...                   ...         ...   \n",
            "263           0.763636  0.271603              1.047071    0.303629   \n",
            "264           0.763636  0.271603              1.047071    0.303629   \n",
            "265           0.763636  0.271603              1.047071    0.303629   \n",
            "266           0.763636  0.271603              1.047071    0.303629   \n",
            "267           0.763636  0.271603              1.047071    0.303629   \n",
            "\n",
            "     off_rp_rate  off_rp_success_rate  off_second_level_yards  off_stuff_rate  \\\n",
            "0       0.551587             0.450839                1.170264        0.227818   \n",
            "1       0.551587             0.450839                1.170264        0.227818   \n",
            "2       0.551587             0.450839                1.170264        0.227818   \n",
            "3       0.551587             0.450839                1.170264        0.227818   \n",
            "4       0.551587             0.450839                1.170264        0.227818   \n",
            "..           ...                  ...                     ...             ...   \n",
            "263     0.459743             0.502538                1.329949        0.152284   \n",
            "264     0.459743             0.502538                1.329949        0.152284   \n",
            "265     0.459743             0.502538                1.329949        0.152284   \n",
            "266     0.459743             0.502538                1.329949        0.152284   \n",
            "267     0.459743             0.502538                1.329949        0.152284   \n",
            "\n",
            "     off_success_rate  off_total_ppa  \n",
            "0            0.421958      25.929349  \n",
            "1            0.421958      25.929349  \n",
            "2            0.421958      25.929349  \n",
            "3            0.421958      25.929349  \n",
            "4            0.421958      25.929349  \n",
            "..                ...            ...  \n",
            "263          0.471412     232.763564  \n",
            "264          0.471412     232.763564  \n",
            "265          0.471412     232.763564  \n",
            "266          0.471412     232.763564  \n",
            "267          0.471412     232.763564  \n",
            "\n",
            "[268 rows x 100 columns]\n"
          ]
        }
      ]
    }
  ]
}