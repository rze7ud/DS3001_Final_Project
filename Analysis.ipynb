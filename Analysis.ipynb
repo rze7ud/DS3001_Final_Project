{
  "nbformat": 4,
  "nbformat_minor": 0,
  "metadata": {
    "colab": {
      "provenance": [],
      "authorship_tag": "ABX9TyOYvuUL58tERyKpYBa3+Lur",
      "include_colab_link": true
    },
    "kernelspec": {
      "name": "python3",
      "display_name": "Python 3"
    },
    "language_info": {
      "name": "python"
    }
  },
  "cells": [
    {
      "cell_type": "markdown",
      "metadata": {
        "id": "view-in-github",
        "colab_type": "text"
      },
      "source": [
        "<a href=\"https://colab.research.google.com/github/rze7ud/DS3001_Final_Project/blob/main/Analysis.ipynb\" target=\"_parent\"><img src=\"https://colab.research.google.com/assets/colab-badge.svg\" alt=\"Open In Colab\"/></a>"
      ]
    },
    {
      "cell_type": "markdown",
      "source": [
        "# 1. Data Wrangling\n",
        "\n",
        "Our project is located in a private GitHub repository, therefore, in order to clone the repository we must attach a GitHub token to the link in the clone command. A .env file must be uploaded in our Google Colab instance which includes both the GitHub token and the API Key used in the data collection notebook."
      ],
      "metadata": {
        "id": "0T3d5DnC8bc1"
      }
    },
    {
      "cell_type": "code",
      "execution_count": null,
      "metadata": {
        "id": "ZfPlwoYvjVOK"
      },
      "outputs": [],
      "source": [
        "! pip install python-dotenv\n",
        "from dotenv import load_dotenv\n",
        "import os\n",
        "\n",
        "load_dotenv()\n",
        "GITHUB_TOKEN = os.getenv('GITHUB_TOKEN')\n",
        "\n",
        "repo_url = f\"https://{GITHUB_TOKEN}@github.com/rze7ud/DS3001_Final_Project/\"\n",
        "\n",
        "os.system(f\"git clone {repo_url}\")"
      ]
    },
    {
      "cell_type": "markdown",
      "source": [
        "Next we are including all of the python imports that we use in this file:"
      ],
      "metadata": {
        "id": "bkvfBRoJ9jIB"
      }
    },
    {
      "cell_type": "code",
      "source": [
        "import pandas as pd\n",
        "import numpy as np\n",
        "import matplotlib.pyplot as plt\n",
        "import seaborn as sns\n",
        "from sklearn.model_selection import train_test_split\n",
        "from sklearn.linear_model import LinearRegression\n",
        "from sklearn.metrics import r2_score\n",
        "from sklearn.decomposition import PCA"
      ],
      "metadata": {
        "id": "b8aIwYDIqIWH"
      },
      "execution_count": 3,
      "outputs": []
    },
    {
      "cell_type": "markdown",
      "source": [
        "Here we read in our data into pandas dataframes.\n",
        "\n",
        "\\* *Note: The season column in clemson_2021_2024.csv was saved as a float and must be converted into an int so we can merge later.*"
      ],
      "metadata": {
        "id": "-u_4Nzxu9ozn"
      }
    },
    {
      "cell_type": "code",
      "source": [
        "clemson_df = pd.read_csv(\"/content/DS3001_Final_Project/data/clemson_2001_2024.csv\")\n",
        "clemson_df['season'] = clemson_df['season'].astype(int)\n",
        "clemson_opp_df = pd.read_csv(\"/content/DS3001_Final_Project/data/clemson_opp_2001_2024.csv\")"
      ],
      "metadata": {
        "id": "m4C6I3Ygp_nF"
      },
      "execution_count": 13,
      "outputs": []
    },
    {
      "cell_type": "markdown",
      "source": [
        "# 2. EDA"
      ],
      "metadata": {
        "id": "zfrDiGjs9ucT"
      }
    },
    {
      "cell_type": "markdown",
      "source": [
        "Dataframes:\n",
        "\n",
        "* clemson_df: 24x47 dataframe with season, defensive and offensive season statistics for Clemson. Years range from 2001 to 2024.\n",
        "* clemson_opp_df: 268x54 dataframe with season, week, matchup result, defensive and offensive season statistics for opponent each week of the season. Years range from 2001 to 2024."
      ],
      "metadata": {
        "id": "wakxmalV-jLa"
      }
    },
    {
      "cell_type": "code",
      "source": [
        "clemson_df.info()\n",
        "clemson_opp_df.info()"
      ],
      "metadata": {
        "id": "Im_2iOAS_jmo"
      },
      "execution_count": null,
      "outputs": []
    },
    {
      "cell_type": "markdown",
      "source": [
        "We merged the dataframes together into the dataframe \"clemson\" so Clemson's season statistics were included each week. Since we collected season statistics, Clemson's stats are duplicated on each row of each season after the season statistics of the opponents."
      ],
      "metadata": {
        "id": "65ak04qgAw83"
      }
    },
    {
      "cell_type": "code",
      "source": [
        "clemson = pd.merge_asof(clemson_opp_df, clemson_df, on ='season')\n",
        "\n",
        "last_row = len(clemson)-1\n",
        "cur = clemson.loc[last_row]\n",
        "clemson = clemson.drop(clemson.index[last_row])"
      ],
      "metadata": {
        "id": "xIpLU4Cy8Y2c"
      },
      "execution_count": 21,
      "outputs": []
    },
    {
      "cell_type": "code",
      "source": [
        "plt.hist(clemson['opp_off_total_ppa'], alpha=0.5, label='Opponent', bins=12)\n",
        "plt.hist(clemson['off_total_ppa'], alpha=0.5, label='Clemson', bins=12)\n",
        "plt.legend(loc='upper right')\n",
        "plt.title('Total Predicted Points Added Distribution')\n",
        "plt.xlabel('Total PPA')\n",
        "plt.ylabel('Frequency')\n",
        "plt.show()"
      ],
      "metadata": {
        "colab": {
          "base_uri": "https://localhost:8080/",
          "height": 472
        },
        "id": "SqzNLL2vbal_",
        "outputId": "45e8df17-e129-40fa-c5bd-f2e6b5de6c2c"
      },
      "execution_count": 29,
      "outputs": [
        {
          "output_type": "display_data",
          "data": {
            "text/plain": [
              "<Figure size 640x480 with 1 Axes>"
            ],
            "image/png": "[encoded data removed]"
          },
          "metadata": {}
        }
      ]
    },
    {
      "cell_type": "markdown",
      "source": [
        "# 3. Model"
      ],
      "metadata": {
        "id": "zuDTynkVdXD7"
      }
    },
    {
      "cell_type": "code",
      "source": [
        "# Still very much in progress\n",
        "\n",
        "clemson.dropna(inplace=True)\n",
        "\n",
        "dummies = pd.get_dummies(clemson['opp_conference'])\n",
        "print(dummies.columns)\n",
        "\n",
        "# y = out[['win', 'clemson_points', 'opp_points']]\n",
        "\n",
        "y = clemson[['opp_points']]\n",
        "X = clemson.drop(['win', 'clemson_points', 'opp_points', 'opp', 'opp_conference'], axis=1)\n",
        "# = out.drop(['win', 'opp', 'opp_conference'], axis=1)\n",
        "X = pd.concat([X, dummies], axis=1)\n",
        "\n",
        "\n",
        "\n",
        "X_train, X_test, y_train, y_test = train_test_split(X, y, test_size=0.2, random_state=8)\n",
        "reduction = PCA(n_components=34).fit(X_train)\n",
        "Z_train = reduction.transform(X_train)\n",
        "Z_test = reduction.transform(X_test)\n",
        "\n",
        "lm_k = LinearRegression().fit(Z_train,y_train)\n",
        "y_hat_test = lm_k.predict(Z_test)\n",
        "y_hat_train = lm_k.predict(Z_train)\n",
        "\n",
        "print('Train r^2: ', r2_score(y_hat_train, y_train))\n",
        "print('Test r^2: ', r2_score(y_hat_test, y_test))"
      ],
      "metadata": {
        "colab": {
          "base_uri": "https://localhost:8080/"
        },
        "id": "AwmNi8HZAfMl",
        "outputId": "2f4a70e3-d4dc-4ff0-c53a-00159bcedc7e"
      },
      "execution_count": 112,
      "outputs": [
        {
          "output_type": "stream",
          "name": "stdout",
          "text": [
            "Index(['ACC', 'American Athletic', 'Big 12', 'Big Ten', 'Conference USA',\n",
            "       'FBS Independents', 'Mid-American', 'Mountain West', 'SEC', 'Sun Belt'],\n",
            "      dtype='object')\n",
            "Train r^2:  -0.3920241276088281\n",
            "Test r^2:  -1.4625617845226158\n"
          ]
        }
      ]
    }
  ]
}